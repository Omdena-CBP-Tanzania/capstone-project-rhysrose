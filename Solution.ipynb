{
 "cells": [
  {
   "cell_type": "markdown",
   "id": "5ef2e631-e78d-46a8-8e53-cdcb65889767",
   "metadata": {},
   "source": [
    "# **Project: Climate Change Analysis in Tanzania**"
   ]
  },
  {
   "cell_type": "code",
   "execution_count": 25,
   "id": "7e7afe24-6f8a-48fe-b574-af825de80555",
   "metadata": {},
   "outputs": [],
   "source": [
    "import pandas as pd\n",
    "import numpy as np\n",
    "import matplotlib.pyplot as plt\n",
    "import seaborn as sns\n",
    "\n",
    "from sklearn.model_selection import train_test_split\n",
    "from sklearn.linear_model import LinearRegression\n",
    "from sklearn.metrics import mean_squared_error, r2_score\n",
    "\n",
    "from sklearn.ensemble import RandomForestRegressor\n",
    "from sklearn.preprocessing import StandardScaler\n"
   ]
  },
  {
   "cell_type": "code",
   "execution_count": 26,
   "id": "8a833ac6-be82-4f4a-b467-acc061cfe7d5",
   "metadata": {},
   "outputs": [
    {
     "name": "stdout",
     "output_type": "stream",
     "text": [
      "   Year  Month  Average_Temperature_C  Total_Rainfall_mm  Max_Temperature_C  \\\n",
      "0  2000      1                   26.1               19.8               32.0   \n",
      "1  2000      2                   25.8               87.3               29.5   \n",
      "2  2000      3                   26.8              266.5               29.9   \n",
      "3  2000      4                   26.3              136.7               30.1   \n",
      "4  2000      5                   26.0               63.1               30.7   \n",
      "\n",
      "   Min_Temperature_C  \n",
      "0               21.9  \n",
      "1               22.7  \n",
      "2               21.8  \n",
      "3               22.9  \n",
      "4               22.4  \n"
     ]
    }
   ],
   "source": [
    "# Import data\n",
    "datapath = r\"/Users/rosepeterfunja/Tanzania_KIC/Assignment/capstone-project-rhysrose/data/tanzania_climate_data.csv\"\n",
    "df = pd.read_csv(datapath)\n",
    "\n",
    "# Optional: Check the first few rows\n",
    "print(df.head())"
   ]
  },
  {
   "cell_type": "code",
   "execution_count": 27,
   "id": "5afb7d09-8a21-4301-aad4-97ccf46c60cd",
   "metadata": {},
   "outputs": [
    {
     "data": {
      "text/html": [
       "<div>\n",
       "<style scoped>\n",
       "    .dataframe tbody tr th:only-of-type {\n",
       "        vertical-align: middle;\n",
       "    }\n",
       "\n",
       "    .dataframe tbody tr th {\n",
       "        vertical-align: top;\n",
       "    }\n",
       "\n",
       "    .dataframe thead th {\n",
       "        text-align: right;\n",
       "    }\n",
       "</style>\n",
       "<table border=\"1\" class=\"dataframe\">\n",
       "  <thead>\n",
       "    <tr style=\"text-align: right;\">\n",
       "      <th></th>\n",
       "      <th>Year</th>\n",
       "      <th>Month</th>\n",
       "      <th>Average_Temperature_C</th>\n",
       "      <th>Total_Rainfall_mm</th>\n",
       "      <th>Max_Temperature_C</th>\n",
       "      <th>Min_Temperature_C</th>\n",
       "    </tr>\n",
       "  </thead>\n",
       "  <tbody>\n",
       "    <tr>\n",
       "      <th>count</th>\n",
       "      <td>252.000000</td>\n",
       "      <td>252.000000</td>\n",
       "      <td>252.000000</td>\n",
       "      <td>252.000000</td>\n",
       "      <td>252.000000</td>\n",
       "      <td>252.000000</td>\n",
       "    </tr>\n",
       "    <tr>\n",
       "      <th>mean</th>\n",
       "      <td>2010.000000</td>\n",
       "      <td>6.500000</td>\n",
       "      <td>25.707540</td>\n",
       "      <td>100.363889</td>\n",
       "      <td>30.576587</td>\n",
       "      <td>21.698016</td>\n",
       "    </tr>\n",
       "    <tr>\n",
       "      <th>std</th>\n",
       "      <td>6.067351</td>\n",
       "      <td>3.458922</td>\n",
       "      <td>0.541047</td>\n",
       "      <td>80.485087</td>\n",
       "      <td>1.292534</td>\n",
       "      <td>0.793070</td>\n",
       "    </tr>\n",
       "    <tr>\n",
       "      <th>min</th>\n",
       "      <td>2000.000000</td>\n",
       "      <td>1.000000</td>\n",
       "      <td>24.200000</td>\n",
       "      <td>6.000000</td>\n",
       "      <td>28.300000</td>\n",
       "      <td>19.700000</td>\n",
       "    </tr>\n",
       "    <tr>\n",
       "      <th>25%</th>\n",
       "      <td>2005.000000</td>\n",
       "      <td>3.750000</td>\n",
       "      <td>25.300000</td>\n",
       "      <td>39.325000</td>\n",
       "      <td>29.600000</td>\n",
       "      <td>21.100000</td>\n",
       "    </tr>\n",
       "    <tr>\n",
       "      <th>50%</th>\n",
       "      <td>2010.000000</td>\n",
       "      <td>6.500000</td>\n",
       "      <td>25.700000</td>\n",
       "      <td>72.200000</td>\n",
       "      <td>30.500000</td>\n",
       "      <td>21.700000</td>\n",
       "    </tr>\n",
       "    <tr>\n",
       "      <th>75%</th>\n",
       "      <td>2015.000000</td>\n",
       "      <td>9.250000</td>\n",
       "      <td>26.000000</td>\n",
       "      <td>147.700000</td>\n",
       "      <td>31.600000</td>\n",
       "      <td>22.200000</td>\n",
       "    </tr>\n",
       "    <tr>\n",
       "      <th>max</th>\n",
       "      <td>2020.000000</td>\n",
       "      <td>12.000000</td>\n",
       "      <td>27.500000</td>\n",
       "      <td>297.400000</td>\n",
       "      <td>33.700000</td>\n",
       "      <td>23.700000</td>\n",
       "    </tr>\n",
       "  </tbody>\n",
       "</table>\n",
       "</div>"
      ],
      "text/plain": [
       "              Year       Month  Average_Temperature_C  Total_Rainfall_mm  \\\n",
       "count   252.000000  252.000000             252.000000         252.000000   \n",
       "mean   2010.000000    6.500000              25.707540         100.363889   \n",
       "std       6.067351    3.458922               0.541047          80.485087   \n",
       "min    2000.000000    1.000000              24.200000           6.000000   \n",
       "25%    2005.000000    3.750000              25.300000          39.325000   \n",
       "50%    2010.000000    6.500000              25.700000          72.200000   \n",
       "75%    2015.000000    9.250000              26.000000         147.700000   \n",
       "max    2020.000000   12.000000              27.500000         297.400000   \n",
       "\n",
       "       Max_Temperature_C  Min_Temperature_C  \n",
       "count         252.000000         252.000000  \n",
       "mean           30.576587          21.698016  \n",
       "std             1.292534           0.793070  \n",
       "min            28.300000          19.700000  \n",
       "25%            29.600000          21.100000  \n",
       "50%            30.500000          21.700000  \n",
       "75%            31.600000          22.200000  \n",
       "max            33.700000          23.700000  "
      ]
     },
     "execution_count": 27,
     "metadata": {},
     "output_type": "execute_result"
    }
   ],
   "source": [
    "df.describe()"
   ]
  },
  {
   "cell_type": "code",
   "execution_count": 28,
   "id": "f5be9065-1da0-4686-84e1-e764bf63bf22",
   "metadata": {},
   "outputs": [
    {
     "name": "stdout",
     "output_type": "stream",
     "text": [
      "<class 'pandas.core.frame.DataFrame'>\n",
      "RangeIndex: 252 entries, 0 to 251\n",
      "Data columns (total 6 columns):\n",
      " #   Column                 Non-Null Count  Dtype  \n",
      "---  ------                 --------------  -----  \n",
      " 0   Year                   252 non-null    int64  \n",
      " 1   Month                  252 non-null    int64  \n",
      " 2   Average_Temperature_C  252 non-null    float64\n",
      " 3   Total_Rainfall_mm      252 non-null    float64\n",
      " 4   Max_Temperature_C      252 non-null    float64\n",
      " 5   Min_Temperature_C      252 non-null    float64\n",
      "dtypes: float64(4), int64(2)\n",
      "memory usage: 11.9 KB\n"
     ]
    }
   ],
   "source": [
    "df.info()\n"
   ]
  }
 ],
 "metadata": {
  "kernelspec": {
   "display_name": "Python [conda env:anaconda3]",
   "language": "python",
   "name": "conda-env-anaconda3-py"
  },
  "language_info": {
   "codemirror_mode": {
    "name": "ipython",
    "version": 3
   },
   "file_extension": ".py",
   "mimetype": "text/x-python",
   "name": "python",
   "nbconvert_exporter": "python",
   "pygments_lexer": "ipython3",
   "version": "3.7.1"
  }
 },
 "nbformat": 4,
 "nbformat_minor": 5
}
